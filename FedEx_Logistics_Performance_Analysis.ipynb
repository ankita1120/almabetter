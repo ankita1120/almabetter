{
  "nbformat": 4,
  "nbformat_minor": 0,
  "metadata": {
    "colab": {
      "provenance": [],
      "authorship_tag": "ABX9TyNj4VG/M8OTu7oIQHn9rn0/",
      "include_colab_link": true
    },
    "kernelspec": {
      "name": "python3",
      "display_name": "Python 3"
    },
    "language_info": {
      "name": "python"
    }
  },
  "cells": [
    {
      "cell_type": "markdown",
      "metadata": {
        "id": "view-in-github",
        "colab_type": "text"
      },
      "source": [
        "<a href=\"https://colab.research.google.com/github/ankita1120/almabetter/blob/publicBranch/FedEx_Logistics_Performance_Analysis.ipynb\" target=\"_parent\"><img src=\"https://colab.research.google.com/assets/colab-badge.svg\" alt=\"Open In Colab\"/></a>"
      ]
    },
    {
      "cell_type": "markdown",
      "source": [
        "## Import libraries"
      ],
      "metadata": {
        "id": "MsoWEU3r0VzR"
      }
    },
    {
      "cell_type": "code",
      "execution_count": null,
      "metadata": {
        "id": "AZd0YiBh0H89"
      },
      "outputs": [],
      "source": [
        "# import libraries\n",
        "import pandas as pd\n",
        "import numpy as np\n",
        "import matplotlib.pyplot as plt\n",
        "import seaborn as sns\n",
        "import plotly.express as px\n"
      ]
    },
    {
      "cell_type": "markdown",
      "source": [
        "## Upload Dataset\n"
      ],
      "metadata": {
        "id": "yYIa0a_g0x6j"
      }
    },
    {
      "cell_type": "code",
      "source": [
        "# Upload Dataset\n",
        "df = pd.read_csv('/content/SCMS_Delivery_History_Dataset.csv')\n",
        "\n",
        "print(df.head())"
      ],
      "metadata": {
        "id": "8_yjcNyw02Mu"
      },
      "execution_count": null,
      "outputs": []
    },
    {
      "cell_type": "markdown",
      "source": [
        "## Display basic information"
      ],
      "metadata": {
        "id": "SPExcXTm1Vm6"
      }
    },
    {
      "cell_type": "code",
      "source": [
        "# Display basic information\n",
        "print(\"DataSet Shape:\" , df.shape)\n",
        "print(\"DataSet Info:\" , df.info())\n",
        "print(\"DataSet Describe:\" , df.describe())\n",
        "print(\"\\n Misssing values:\" , df.isnull().sum())"
      ],
      "metadata": {
        "id": "XP-I9nGZ1ZRC"
      },
      "execution_count": null,
      "outputs": []
    },
    {
      "cell_type": "markdown",
      "source": [
        "# Handle missing values"
      ],
      "metadata": {
        "id": "3DsReQiD2pAc"
      }
    },
    {
      "cell_type": "code",
      "source": [
        "# Handle missing values for Freight Cost\n",
        "if 'Freight Cost (USD)' in df.columns:\n",
        "    # Attempt to convert the column to numeric, handling errors\n",
        "    df['Freight Cost (USD)'] = pd.to_numeric(df['Freight Cost (USD)'], errors='coerce')\n",
        "\n",
        "    if df['Freight Cost (USD)'].notna().sum() > 0:\n",
        "        df['Freight Cost (USD)'].fillna(df['Freight Cost (USD)'].mean(), inplace=True)\n",
        "    else:\n",
        "        print(\"Warning: 'Freight Cost (USD)' column contains only NaN values.\")\n",
        "else:\n",
        "    print(\"Warning: 'Freight Cost (USD)' column not found in DataFrame.\")\n",
        "\n",
        "# Rename columns for consistency\n",
        "df.rename(columns={'PO Sent to Vendor Date': 'Order_Date',\n",
        "                   'Delivered to Client Date': 'Delivery_Date'}, inplace=True)\n",
        "\n",
        "# Convert date columns safely\n",
        "date_columns = ['Order_Date', 'Delivery_Date']\n",
        "for col in date_columns:\n",
        "    if col in df.columns:\n",
        "        df[col] = pd.to_datetime(df[col], errors='coerce')\n",
        "    else:\n",
        "        print(f\"Warning: '{col}' column not found in DataFrame.\")\n",
        "\n",
        "# Ensure both Order_Date and Delivery_Date exist before calculating duration\n",
        "if 'Order_Date' in df.columns and 'Delivery_Date' in df.columns:\n",
        "    df[\"Delivery_Duration\"] = (df[\"Delivery_Date\"] - df[\"Order_Date\"]).dt.days\n",
        "    df[\"Delivery_Duration\"] = df[\"Delivery_Duration\"].fillna(-1)  # Assign -1 to invalid durations\n",
        "else:\n",
        "    print(\"Warning: One or both date columns are missing.\")\n",
        "\n",
        "# Remove duplicates\n",
        "df.drop_duplicates(inplace=True)\n",
        "\n",
        "# Basic Statistics\n",
        "print(\"\\nBasic Statistics:\\n\", df.describe())\n"
      ],
      "metadata": {
        "id": "iMHNiyfz8DwO"
      },
      "execution_count": null,
      "outputs": []
    },
    {
      "cell_type": "markdown",
      "source": [
        "# EDA\n",
        "# Shipment Method Analysis\n"
      ],
      "metadata": {
        "id": "NfK8F2gC_pHo"
      }
    },
    {
      "cell_type": "code",
      "source": [
        "# Shipment Mode Analysis\n",
        "plt.figure(figsize=(10, 5))\n",
        "sns.countplot(data=df, x=\"Shipment Mode\", palette=\"coolwarm\")\n",
        "plt.title(\"Shipment Mode Distribution\")\n",
        "plt.xticks(rotation=45)\n",
        "plt.show()"
      ],
      "metadata": {
        "id": "1Mro9-8w_vsL"
      },
      "execution_count": null,
      "outputs": []
    },
    {
      "cell_type": "markdown",
      "source": [
        "# Freight Cost Distribution"
      ],
      "metadata": {
        "id": "Uc4vOZjQBbyL"
      }
    },
    {
      "cell_type": "code",
      "source": [
        "# Freight Cost Distribution\n",
        "plt.figure(figsize=(10, 5))\n",
        "# Changed 'Shipment_Method' to 'Shipment Mode'\n",
        "sns.boxplot(data=df, x=\"Shipment Mode\", y=\"Freight Cost (USD)\", palette=\"viridis\")\n",
        "plt.title(\"Freight Cost by Shipment Method\")\n",
        "plt.xticks(rotation=45)\n",
        "plt.show()"
      ],
      "metadata": {
        "id": "L2uwDG-BBcet"
      },
      "execution_count": null,
      "outputs": []
    },
    {
      "cell_type": "markdown",
      "source": [
        "# Interactive Geo-Map of Shipments\n"
      ],
      "metadata": {
        "id": "0HQbMx2FB0rJ"
      }
    },
    {
      "cell_type": "code",
      "source": [
        "# Create interactive shipment distribution map\n",
        "fig = px.scatter_geo(df, locations=\"Country\",\n",
        "                     locationmode=\"country names\",  # Uses country names instead of lat/lon\n",
        "                     color=\"Shipment Mode\",\n",
        "                     size=\"Freight Cost (USD)\",\n",
        "                     hover_name=\"Country\",\n",
        "                     title=\"Shipment Distribution Map\")\n",
        "\n",
        "fig.show()"
      ],
      "metadata": {
        "id": "0Zr9tjYAB40z"
      },
      "execution_count": null,
      "outputs": []
    },
    {
      "cell_type": "markdown",
      "source": [
        "# Correlation Matrix\n"
      ],
      "metadata": {
        "id": "HnJnIxFsCV1D"
      }
    },
    {
      "cell_type": "code",
      "source": [
        "# Compute correlation matrix for numerical columns\n",
        "numeric_df = df.select_dtypes(include=[\"number\"])  # Selects only numeric columns\n",
        "plt.figure(figsize=(10, 6))\n",
        "sns.heatmap(numeric_df.corr(), annot=True, cmap=\"coolwarm\", linewidths=0.5)\n",
        "plt.title(\"Correlation Matrix of Numerical Features\")\n",
        "plt.show()\n"
      ],
      "metadata": {
        "id": "VwtoRt8aCdxX"
      },
      "execution_count": null,
      "outputs": []
    },
    {
      "cell_type": "code",
      "source": [
        "# Insights\n",
        "print(\"\\nKey Insights:\")\n",
        "print(\"- The most frequently used shipment mode is:\", df[\"Shipment Mode\"].mode()[0])\n",
        "# Replace 'Delivery Time (Days)' with 'Delivery_Duration'\n",
        "print(\"- Average delivery duration:\", df[\"Delivery_Duration\"].mean(), \"days\")\n",
        "print(\"- Highest freight cost recorded:\", df[\"Freight Cost (USD)\"].max())"
      ],
      "metadata": {
        "id": "i2hA42XaCuBx"
      },
      "execution_count": null,
      "outputs": []
    }
  ]
}